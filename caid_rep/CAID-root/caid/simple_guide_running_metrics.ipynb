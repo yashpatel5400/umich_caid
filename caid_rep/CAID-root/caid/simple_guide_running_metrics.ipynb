{
 "cells": [
  {
   "cell_type": "markdown",
   "id": "d63ca5b5",
   "metadata": {},
   "source": [
    "**To generate the metric files, move to the ```caid``` folder, then run:**\n",
    "\n",
    "```\n",
    "python3 caid.py <files you want to use as reference> <folder containing the prediction for a predictor> -ll INFO -o ../results\n",
    "```\n",
    "\n",
    "By running above command, the metric files are generated in the ```results``` folder\n"
   ]
  },
  {
   "cell_type": "markdown",
   "id": "b1956be7",
   "metadata": {},
   "source": [
    "**If you want to run all the reference files with all predictions files (without considering run baseline), run:**\n",
    "```\n",
    "bash launch_all.sh\n",
    "```\n"
   ]
  },
  {
   "cell_type": "markdown",
   "id": "ff5f9254",
   "metadata": {},
   "source": [
    "---\n",
    "**Example:**\n",
    "\n",
    "Use ```disprot-disorder-pdb-atleast.txt``` as reference file, and ```D001PyHCA.out``` and ```D002_Predisorder.out``` (stored in the ```test_example/predictions_for_test``` folder) as the predictions.\n",
    "Then run: \n",
    "```\n",
    "python3 caid.py test_example/disprot-disorder-pdb-atleast.txt test_example/predictions_for_test -ll INFO -o ../test_results\n",
    "```\n",
    "Or run:\n",
    "```\n",
    "bash test_launch_all.sh \n",
    "```"
   ]
  }
 ],
 "metadata": {
  "kernelspec": {
   "display_name": "Python 3 (ipykernel)",
   "language": "python",
   "name": "python3"
  },
  "language_info": {
   "codemirror_mode": {
    "name": "ipython",
    "version": 3
   },
   "file_extension": ".py",
   "mimetype": "text/x-python",
   "name": "python",
   "nbconvert_exporter": "python",
   "pygments_lexer": "ipython3",
   "version": "3.8.13"
  }
 },
 "nbformat": 4,
 "nbformat_minor": 5
}
