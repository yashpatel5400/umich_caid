{
 "cells": [
  {
   "cell_type": "code",
   "execution_count": 2,
   "metadata": {
    "jupyter": {
     "source_hidden": true
    }
   },
   "outputs": [],
   "source": [
    "import numpy as np\n",
    "from vectorized_metrics import confmat\n",
    "from sklearn.metrics import confusion_matrix\n",
    "import pandas as pd\n",
    "import seaborn as sns\n",
    "import matplotlib.pyplot as plt\n",
    "import scipy"
   ]
  },
  {
   "cell_type": "code",
   "execution_count": 3,
   "metadata": {
    "jupyter": {
     "source_hidden": true
    }
   },
   "outputs": [],
   "source": [
    "def binary_clf_curve(y_true, y_score):\n",
    "    pos_label = 1.0\n",
    "    y_true = (y_true == pos_label)\n",
    "\n",
    "    desc_score_indices = np.argsort(y_score, kind=\"mergesort\")[::-1]\n",
    "    y_score = y_score[desc_score_indices]\n",
    "    y_true = y_true[desc_score_indices]\n",
    "\n",
    "    distinct_value_indices = np.where(np.diff(y_score))[0]\n",
    "    threshold_idxs = np.r_[distinct_value_indices, y_true.size - 1]\n",
    "\n",
    "    tps = np.cumsum(y_true, dtype=np.float64)[threshold_idxs]\n",
    "    fps = 1 + threshold_idxs - tps\n",
    "    thr = y_score[threshold_idxs]\n",
    "\n",
    "    return fps, tps, thr"
   ]
  },
  {
   "cell_type": "code",
   "execution_count": 4,
   "metadata": {
    "jupyter": {
     "source_hidden": true
    }
   },
   "outputs": [],
   "source": [
    "ytrue = np.array([0, 0, 0, 1, 1, 1, 0, 1, 1, 1])\n",
    "yscore = np.array([0.523, 0.957, 0.489, 0.244, 0.311, 0.093, 0.21 , 0.065, 0.552, 0.556])"
   ]
  },
  {
   "cell_type": "code",
   "execution_count": 5,
   "metadata": {
    "jupyter": {
     "outputs_hidden": true,
     "source_hidden": true
    }
   },
   "outputs": [
    {
     "name": "stdout",
     "output_type": "stream",
     "text": [
      "CPU times: user 857 µs, sys: 227 µs, total: 1.08 ms\n",
      "Wall time: 686 µs\n"
     ]
    }
   ],
   "source": [
    "%time a = confmat(*binary_clf_curve(ytrue, yscore)[:-1])"
   ]
  },
  {
   "cell_type": "code",
   "execution_count": 6,
   "metadata": {
    "jupyter": {
     "outputs_hidden": true,
     "source_hidden": true
    }
   },
   "outputs": [
    {
     "name": "stdout",
     "output_type": "stream",
     "text": [
      "CPU times: user 11.1 ms, sys: 0 ns, total: 11.1 ms\n",
      "Wall time: 9.75 ms\n"
     ]
    }
   ],
   "source": [
    "%%time \n",
    "for thr in sorted(yscore):\n",
    "    confusion_matrix(ytrue, yscore>thr)"
   ]
  },
  {
   "cell_type": "code",
   "execution_count": 7,
   "metadata": {
    "jupyter": {
     "source_hidden": true
    }
   },
   "outputs": [],
   "source": [
    "n = np.array([0.898, 0.910, 1.13, 1.39])\n",
    "f = np.array([14, 80 ,800, 52*1000])\n",
    "l = np.array([10**x for x in range(1, len(n)+1)], dtype=float)"
   ]
  },
  {
   "cell_type": "code",
   "execution_count": 9,
   "metadata": {
    "jupyter": {
     "outputs_hidden": true,
     "source_hidden": true
    }
   },
   "outputs": [
    {
     "data": {
      "image/png": "[encoded data removed]",
      "text/plain": [
       "<Figure size 432x288 with 1 Axes>"
      ]
     },
     "metadata": {
      "needs_background": "light"
     },
     "output_type": "display_data"
    }
   ],
   "source": [
    "def func(x, a, b):\n",
    "    return a*np.exp(b*x)\n",
    "\n",
    "plt.plot(func(np.arange(20), *scipy.optimize.curve_fit(func,  l/1000,  n/1000)[0]), label='vectorized-cls-metrics')\n",
    "plt.plot(func(np.arange(20), *scipy.optimize.curve_fit(func,  l/1000,  f/1000)[0]), label='sklearn in a for loop')\n",
    "plt.legend();\n",
    "plt.savefig('results.png', dpi=300)"
   ]
  }
 ],
 "metadata": {
  "kernelspec": {
   "display_name": "caid",
   "language": "python",
   "name": "caid"
  },
  "language_info": {
   "codemirror_mode": {
    "name": "ipython",
    "version": 3
   },
   "file_extension": ".py",
   "mimetype": "text/x-python",
   "name": "python",
   "nbconvert_exporter": "python",
   "pygments_lexer": "ipython3",
   "version": "3.6.9"
  }
 },
 "nbformat": 4,
 "nbformat_minor": 4
}
